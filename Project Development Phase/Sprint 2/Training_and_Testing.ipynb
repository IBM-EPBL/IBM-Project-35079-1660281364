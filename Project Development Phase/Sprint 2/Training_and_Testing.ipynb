{
  "nbformat": 4,
  "nbformat_minor": 0,
  "metadata": {
    "colab": {
      "provenance": [],
      "collapsed_sections": []
    },
    "kernelspec": {
      "name": "python3",
      "display_name": "Python 3"
    },
    "language_info": {
      "name": "python"
    }
  },
  "cells": [
    {
      "cell_type": "code",
      "execution_count": 3,
      "metadata": {
        "id": "W9gSv7a5-_Lx"
      },
      "outputs": [],
      "source": [
        "import pandas as pd\n",
        "import numpy as np\n",
        "import seaborn as sns\n",
        "import matplotlib.pyplot as plt\n",
        "from sklearn import preprocessing\n",
        "from sklearn import model_selection\n",
        "from sklearn import metrics\n",
        "from sklearn import linear_model\n",
        "from sklearn import ensemble\n",
        "from sklearn import tree\n",
        "from sklearn import svm\n",
        "import xgboost"
      ]
    },
    {
      "cell_type": "code",
      "source": [
        "import csv"
      ],
      "metadata": {
        "id": "3VllCMKt_Kv6"
      },
      "execution_count": 4,
      "outputs": []
    },
    {
      "cell_type": "code",
      "source": [
        "df=pd.read_csv('weatherAUS.csv')\n"
      ],
      "metadata": {
        "id": "xjVNDT5Q_L37"
      },
      "execution_count": 8,
      "outputs": []
    },
    {
      "cell_type": "code",
      "source": [
        "df.head()\n"
      ],
      "metadata": {
        "colab": {
          "base_uri": "https://localhost:8080/",
          "height": 386
        },
        "id": "6YmvIOnuAsnP",
        "outputId": "cb1260f7-8ac8-4f0d-dc2c-a5676c912848"
      },
      "execution_count": 11,
      "outputs": [
        {
          "output_type": "execute_result",
          "data": {
            "text/plain": [
              "         Date Location  MinTemp  MaxTemp  Rainfall  Evaporation  Sunshine  \\\n",
              "0  2008-12-01   Albury     13.4     22.9       0.6          NaN       NaN   \n",
              "1  2008-12-02   Albury      7.4     25.1       0.0          NaN       NaN   \n",
              "2  2008-12-03   Albury     12.9     25.7       0.0          NaN       NaN   \n",
              "3  2008-12-04   Albury      9.2     28.0       0.0          NaN       NaN   \n",
              "4  2008-12-05   Albury     17.5     32.3       1.0          NaN       NaN   \n",
              "\n",
              "  WindGustDir  WindGustSpeed WindDir9am  ... Humidity9am  Humidity3pm  \\\n",
              "0           W           44.0          W  ...        71.0         22.0   \n",
              "1         WNW           44.0        NNW  ...        44.0         25.0   \n",
              "2         WSW           46.0          W  ...        38.0         30.0   \n",
              "3          NE           24.0         SE  ...        45.0         16.0   \n",
              "4           W           41.0        ENE  ...        82.0         33.0   \n",
              "\n",
              "   Pressure9am  Pressure3pm  Cloud9am  Cloud3pm  Temp9am  Temp3pm  RainToday  \\\n",
              "0       1007.7       1007.1       8.0       NaN     16.9     21.8         No   \n",
              "1       1010.6       1007.8       NaN       NaN     17.2     24.3         No   \n",
              "2       1007.6       1008.7       NaN       2.0     21.0     23.2         No   \n",
              "3       1017.6       1012.8       NaN       NaN     18.1     26.5         No   \n",
              "4       1010.8       1006.0       7.0       8.0     17.8     29.7         No   \n",
              "\n",
              "   RainTomorrow  \n",
              "0            No  \n",
              "1            No  \n",
              "2            No  \n",
              "3            No  \n",
              "4            No  \n",
              "\n",
              "[5 rows x 23 columns]"
            ],
            "text/html": [
              "\n",
              "  <div id=\"df-2667c638-26e7-4070-9d32-a62098d93685\">\n",
              "    <div class=\"colab-df-container\">\n",
              "      <div>\n",
              "<style scoped>\n",
              "    .dataframe tbody tr th:only-of-type {\n",
              "        vertical-align: middle;\n",
              "    }\n",
              "\n",
              "    .dataframe tbody tr th {\n",
              "        vertical-align: top;\n",
              "    }\n",
              "\n",
              "    .dataframe thead th {\n",
              "        text-align: right;\n",
              "    }\n",
              "</style>\n",
              "<table border=\"1\" class=\"dataframe\">\n",
              "  <thead>\n",
              "    <tr style=\"text-align: right;\">\n",
              "      <th></th>\n",
              "      <th>Date</th>\n",
              "      <th>Location</th>\n",
              "      <th>MinTemp</th>\n",
              "      <th>MaxTemp</th>\n",
              "      <th>Rainfall</th>\n",
              "      <th>Evaporation</th>\n",
              "      <th>Sunshine</th>\n",
              "      <th>WindGustDir</th>\n",
              "      <th>WindGustSpeed</th>\n",
              "      <th>WindDir9am</th>\n",
              "      <th>...</th>\n",
              "      <th>Humidity9am</th>\n",
              "      <th>Humidity3pm</th>\n",
              "      <th>Pressure9am</th>\n",
              "      <th>Pressure3pm</th>\n",
              "      <th>Cloud9am</th>\n",
              "      <th>Cloud3pm</th>\n",
              "      <th>Temp9am</th>\n",
              "      <th>Temp3pm</th>\n",
              "      <th>RainToday</th>\n",
              "      <th>RainTomorrow</th>\n",
              "    </tr>\n",
              "  </thead>\n",
              "  <tbody>\n",
              "    <tr>\n",
              "      <th>0</th>\n",
              "      <td>2008-12-01</td>\n",
              "      <td>Albury</td>\n",
              "      <td>13.4</td>\n",
              "      <td>22.9</td>\n",
              "      <td>0.6</td>\n",
              "      <td>NaN</td>\n",
              "      <td>NaN</td>\n",
              "      <td>W</td>\n",
              "      <td>44.0</td>\n",
              "      <td>W</td>\n",
              "      <td>...</td>\n",
              "      <td>71.0</td>\n",
              "      <td>22.0</td>\n",
              "      <td>1007.7</td>\n",
              "      <td>1007.1</td>\n",
              "      <td>8.0</td>\n",
              "      <td>NaN</td>\n",
              "      <td>16.9</td>\n",
              "      <td>21.8</td>\n",
              "      <td>No</td>\n",
              "      <td>No</td>\n",
              "    </tr>\n",
              "    <tr>\n",
              "      <th>1</th>\n",
              "      <td>2008-12-02</td>\n",
              "      <td>Albury</td>\n",
              "      <td>7.4</td>\n",
              "      <td>25.1</td>\n",
              "      <td>0.0</td>\n",
              "      <td>NaN</td>\n",
              "      <td>NaN</td>\n",
              "      <td>WNW</td>\n",
              "      <td>44.0</td>\n",
              "      <td>NNW</td>\n",
              "      <td>...</td>\n",
              "      <td>44.0</td>\n",
              "      <td>25.0</td>\n",
              "      <td>1010.6</td>\n",
              "      <td>1007.8</td>\n",
              "      <td>NaN</td>\n",
              "      <td>NaN</td>\n",
              "      <td>17.2</td>\n",
              "      <td>24.3</td>\n",
              "      <td>No</td>\n",
              "      <td>No</td>\n",
              "    </tr>\n",
              "    <tr>\n",
              "      <th>2</th>\n",
              "      <td>2008-12-03</td>\n",
              "      <td>Albury</td>\n",
              "      <td>12.9</td>\n",
              "      <td>25.7</td>\n",
              "      <td>0.0</td>\n",
              "      <td>NaN</td>\n",
              "      <td>NaN</td>\n",
              "      <td>WSW</td>\n",
              "      <td>46.0</td>\n",
              "      <td>W</td>\n",
              "      <td>...</td>\n",
              "      <td>38.0</td>\n",
              "      <td>30.0</td>\n",
              "      <td>1007.6</td>\n",
              "      <td>1008.7</td>\n",
              "      <td>NaN</td>\n",
              "      <td>2.0</td>\n",
              "      <td>21.0</td>\n",
              "      <td>23.2</td>\n",
              "      <td>No</td>\n",
              "      <td>No</td>\n",
              "    </tr>\n",
              "    <tr>\n",
              "      <th>3</th>\n",
              "      <td>2008-12-04</td>\n",
              "      <td>Albury</td>\n",
              "      <td>9.2</td>\n",
              "      <td>28.0</td>\n",
              "      <td>0.0</td>\n",
              "      <td>NaN</td>\n",
              "      <td>NaN</td>\n",
              "      <td>NE</td>\n",
              "      <td>24.0</td>\n",
              "      <td>SE</td>\n",
              "      <td>...</td>\n",
              "      <td>45.0</td>\n",
              "      <td>16.0</td>\n",
              "      <td>1017.6</td>\n",
              "      <td>1012.8</td>\n",
              "      <td>NaN</td>\n",
              "      <td>NaN</td>\n",
              "      <td>18.1</td>\n",
              "      <td>26.5</td>\n",
              "      <td>No</td>\n",
              "      <td>No</td>\n",
              "    </tr>\n",
              "    <tr>\n",
              "      <th>4</th>\n",
              "      <td>2008-12-05</td>\n",
              "      <td>Albury</td>\n",
              "      <td>17.5</td>\n",
              "      <td>32.3</td>\n",
              "      <td>1.0</td>\n",
              "      <td>NaN</td>\n",
              "      <td>NaN</td>\n",
              "      <td>W</td>\n",
              "      <td>41.0</td>\n",
              "      <td>ENE</td>\n",
              "      <td>...</td>\n",
              "      <td>82.0</td>\n",
              "      <td>33.0</td>\n",
              "      <td>1010.8</td>\n",
              "      <td>1006.0</td>\n",
              "      <td>7.0</td>\n",
              "      <td>8.0</td>\n",
              "      <td>17.8</td>\n",
              "      <td>29.7</td>\n",
              "      <td>No</td>\n",
              "      <td>No</td>\n",
              "    </tr>\n",
              "  </tbody>\n",
              "</table>\n",
              "<p>5 rows × 23 columns</p>\n",
              "</div>\n",
              "      <button class=\"colab-df-convert\" onclick=\"convertToInteractive('df-2667c638-26e7-4070-9d32-a62098d93685')\"\n",
              "              title=\"Convert this dataframe to an interactive table.\"\n",
              "              style=\"display:none;\">\n",
              "        \n",
              "  <svg xmlns=\"http://www.w3.org/2000/svg\" height=\"24px\"viewBox=\"0 0 24 24\"\n",
              "       width=\"24px\">\n",
              "    <path d=\"M0 0h24v24H0V0z\" fill=\"none\"/>\n",
              "    <path d=\"M18.56 5.44l.94 2.06.94-2.06 2.06-.94-2.06-.94-.94-2.06-.94 2.06-2.06.94zm-11 1L8.5 8.5l.94-2.06 2.06-.94-2.06-.94L8.5 2.5l-.94 2.06-2.06.94zm10 10l.94 2.06.94-2.06 2.06-.94-2.06-.94-.94-2.06-.94 2.06-2.06.94z\"/><path d=\"M17.41 7.96l-1.37-1.37c-.4-.4-.92-.59-1.43-.59-.52 0-1.04.2-1.43.59L10.3 9.45l-7.72 7.72c-.78.78-.78 2.05 0 2.83L4 21.41c.39.39.9.59 1.41.59.51 0 1.02-.2 1.41-.59l7.78-7.78 2.81-2.81c.8-.78.8-2.07 0-2.86zM5.41 20L4 18.59l7.72-7.72 1.47 1.35L5.41 20z\"/>\n",
              "  </svg>\n",
              "      </button>\n",
              "      \n",
              "  <style>\n",
              "    .colab-df-container {\n",
              "      display:flex;\n",
              "      flex-wrap:wrap;\n",
              "      gap: 12px;\n",
              "    }\n",
              "\n",
              "    .colab-df-convert {\n",
              "      background-color: #E8F0FE;\n",
              "      border: none;\n",
              "      border-radius: 50%;\n",
              "      cursor: pointer;\n",
              "      display: none;\n",
              "      fill: #1967D2;\n",
              "      height: 32px;\n",
              "      padding: 0 0 0 0;\n",
              "      width: 32px;\n",
              "    }\n",
              "\n",
              "    .colab-df-convert:hover {\n",
              "      background-color: #E2EBFA;\n",
              "      box-shadow: 0px 1px 2px rgba(60, 64, 67, 0.3), 0px 1px 3px 1px rgba(60, 64, 67, 0.15);\n",
              "      fill: #174EA6;\n",
              "    }\n",
              "\n",
              "    [theme=dark] .colab-df-convert {\n",
              "      background-color: #3B4455;\n",
              "      fill: #D2E3FC;\n",
              "    }\n",
              "\n",
              "    [theme=dark] .colab-df-convert:hover {\n",
              "      background-color: #434B5C;\n",
              "      box-shadow: 0px 1px 3px 1px rgba(0, 0, 0, 0.15);\n",
              "      filter: drop-shadow(0px 1px 2px rgba(0, 0, 0, 0.3));\n",
              "      fill: #FFFFFF;\n",
              "    }\n",
              "  </style>\n",
              "\n",
              "      <script>\n",
              "        const buttonEl =\n",
              "          document.querySelector('#df-2667c638-26e7-4070-9d32-a62098d93685 button.colab-df-convert');\n",
              "        buttonEl.style.display =\n",
              "          google.colab.kernel.accessAllowed ? 'block' : 'none';\n",
              "\n",
              "        async function convertToInteractive(key) {\n",
              "          const element = document.querySelector('#df-2667c638-26e7-4070-9d32-a62098d93685');\n",
              "          const dataTable =\n",
              "            await google.colab.kernel.invokeFunction('convertToInteractive',\n",
              "                                                     [key], {});\n",
              "          if (!dataTable) return;\n",
              "\n",
              "          const docLinkHtml = 'Like what you see? Visit the ' +\n",
              "            '<a target=\"_blank\" href=https://colab.research.google.com/notebooks/data_table.ipynb>data table notebook</a>'\n",
              "            + ' to learn more about interactive tables.';\n",
              "          element.innerHTML = '';\n",
              "          dataTable['output_type'] = 'display_data';\n",
              "          await google.colab.output.renderOutput(dataTable, element);\n",
              "          const docLink = document.createElement('div');\n",
              "          docLink.innerHTML = docLinkHtml;\n",
              "          element.appendChild(docLink);\n",
              "        }\n",
              "      </script>\n",
              "    </div>\n",
              "  </div>\n",
              "  "
            ]
          },
          "metadata": {},
          "execution_count": 11
        }
      ]
    },
    {
      "cell_type": "code",
      "source": [
        "df.describe()\n",
        "\n"
      ],
      "metadata": {
        "colab": {
          "base_uri": "https://localhost:8080/",
          "height": 364
        },
        "id": "c15CwFOZAwDh",
        "outputId": "80114d80-e3e7-4bc7-9847-e6dff5c51be0"
      },
      "execution_count": 12,
      "outputs": [
        {
          "output_type": "execute_result",
          "data": {
            "text/plain": [
              "            MinTemp       MaxTemp      Rainfall  Evaporation     Sunshine  \\\n",
              "count  10651.000000  10660.000000  10570.000000  4258.000000  1968.000000   \n",
              "mean      11.699962     24.070891      2.342980     5.629544     7.700305   \n",
              "std        6.250226      7.001711      9.586298     4.787872     3.770900   \n",
              "min       -3.000000      6.800000      0.000000     0.000000     0.000000   \n",
              "25%        6.700000     18.600000      0.000000     2.600000     5.100000   \n",
              "50%       11.700000     23.600000      0.000000     4.400000     8.900000   \n",
              "75%       16.700000     28.900000      0.400000     7.400000    10.500000   \n",
              "max       29.700000     46.600000    371.000000    86.200000    13.800000   \n",
              "\n",
              "       WindGustSpeed  WindSpeed9am  WindSpeed3pm   Humidity9am   Humidity3pm  \\\n",
              "count   10518.000000  10626.000000  10630.000000  10511.000000  10507.000000   \n",
              "mean       35.138239     11.098626     15.501693     68.658168     47.160084   \n",
              "std        12.534175      7.513005      7.671613     20.212526     21.021973   \n",
              "min         7.000000      0.000000      0.000000      5.000000      1.000000   \n",
              "25%        26.000000      6.000000      9.000000     55.000000     31.000000   \n",
              "50%        33.000000      9.000000     15.000000     70.000000     46.000000   \n",
              "75%        43.000000     17.000000     20.000000     84.000000     61.000000   \n",
              "max       107.000000     48.000000     56.000000    100.000000    100.000000   \n",
              "\n",
              "        Pressure9am   Pressure3pm     Cloud9am     Cloud3pm       Temp9am  \\\n",
              "count  10495.000000  10491.000000  5553.000000  5756.000000  10644.000000   \n",
              "mean    1018.240057   1015.586951     4.214659     4.336345     16.871449   \n",
              "std        6.817799      6.703757     3.081802     2.853834      6.111837   \n",
              "min      989.800000    982.900000     0.000000     0.000000      0.300000   \n",
              "25%     1013.600000   1010.900000     1.000000     1.000000     12.300000   \n",
              "50%     1018.200000   1015.600000     5.000000     5.000000     17.100000   \n",
              "75%     1022.900000   1020.200000     7.000000     7.000000     21.200000   \n",
              "max     1039.900000   1036.800000     8.000000     8.000000     37.700000   \n",
              "\n",
              "            Temp3pm  \n",
              "count  10642.000000  \n",
              "mean      22.671208  \n",
              "std        6.784891  \n",
              "min        6.400000  \n",
              "25%       17.500000  \n",
              "50%       22.000000  \n",
              "75%       27.200000  \n",
              "max       45.200000  "
            ],
            "text/html": [
              "\n",
              "  <div id=\"df-b525bbe8-b427-4fc4-8eb8-bbf9a31609d7\">\n",
              "    <div class=\"colab-df-container\">\n",
              "      <div>\n",
              "<style scoped>\n",
              "    .dataframe tbody tr th:only-of-type {\n",
              "        vertical-align: middle;\n",
              "    }\n",
              "\n",
              "    .dataframe tbody tr th {\n",
              "        vertical-align: top;\n",
              "    }\n",
              "\n",
              "    .dataframe thead th {\n",
              "        text-align: right;\n",
              "    }\n",
              "</style>\n",
              "<table border=\"1\" class=\"dataframe\">\n",
              "  <thead>\n",
              "    <tr style=\"text-align: right;\">\n",
              "      <th></th>\n",
              "      <th>MinTemp</th>\n",
              "      <th>MaxTemp</th>\n",
              "      <th>Rainfall</th>\n",
              "      <th>Evaporation</th>\n",
              "      <th>Sunshine</th>\n",
              "      <th>WindGustSpeed</th>\n",
              "      <th>WindSpeed9am</th>\n",
              "      <th>WindSpeed3pm</th>\n",
              "      <th>Humidity9am</th>\n",
              "      <th>Humidity3pm</th>\n",
              "      <th>Pressure9am</th>\n",
              "      <th>Pressure3pm</th>\n",
              "      <th>Cloud9am</th>\n",
              "      <th>Cloud3pm</th>\n",
              "      <th>Temp9am</th>\n",
              "      <th>Temp3pm</th>\n",
              "    </tr>\n",
              "  </thead>\n",
              "  <tbody>\n",
              "    <tr>\n",
              "      <th>count</th>\n",
              "      <td>10651.000000</td>\n",
              "      <td>10660.000000</td>\n",
              "      <td>10570.000000</td>\n",
              "      <td>4258.000000</td>\n",
              "      <td>1968.000000</td>\n",
              "      <td>10518.000000</td>\n",
              "      <td>10626.000000</td>\n",
              "      <td>10630.000000</td>\n",
              "      <td>10511.000000</td>\n",
              "      <td>10507.000000</td>\n",
              "      <td>10495.000000</td>\n",
              "      <td>10491.000000</td>\n",
              "      <td>5553.000000</td>\n",
              "      <td>5756.000000</td>\n",
              "      <td>10644.000000</td>\n",
              "      <td>10642.000000</td>\n",
              "    </tr>\n",
              "    <tr>\n",
              "      <th>mean</th>\n",
              "      <td>11.699962</td>\n",
              "      <td>24.070891</td>\n",
              "      <td>2.342980</td>\n",
              "      <td>5.629544</td>\n",
              "      <td>7.700305</td>\n",
              "      <td>35.138239</td>\n",
              "      <td>11.098626</td>\n",
              "      <td>15.501693</td>\n",
              "      <td>68.658168</td>\n",
              "      <td>47.160084</td>\n",
              "      <td>1018.240057</td>\n",
              "      <td>1015.586951</td>\n",
              "      <td>4.214659</td>\n",
              "      <td>4.336345</td>\n",
              "      <td>16.871449</td>\n",
              "      <td>22.671208</td>\n",
              "    </tr>\n",
              "    <tr>\n",
              "      <th>std</th>\n",
              "      <td>6.250226</td>\n",
              "      <td>7.001711</td>\n",
              "      <td>9.586298</td>\n",
              "      <td>4.787872</td>\n",
              "      <td>3.770900</td>\n",
              "      <td>12.534175</td>\n",
              "      <td>7.513005</td>\n",
              "      <td>7.671613</td>\n",
              "      <td>20.212526</td>\n",
              "      <td>21.021973</td>\n",
              "      <td>6.817799</td>\n",
              "      <td>6.703757</td>\n",
              "      <td>3.081802</td>\n",
              "      <td>2.853834</td>\n",
              "      <td>6.111837</td>\n",
              "      <td>6.784891</td>\n",
              "    </tr>\n",
              "    <tr>\n",
              "      <th>min</th>\n",
              "      <td>-3.000000</td>\n",
              "      <td>6.800000</td>\n",
              "      <td>0.000000</td>\n",
              "      <td>0.000000</td>\n",
              "      <td>0.000000</td>\n",
              "      <td>7.000000</td>\n",
              "      <td>0.000000</td>\n",
              "      <td>0.000000</td>\n",
              "      <td>5.000000</td>\n",
              "      <td>1.000000</td>\n",
              "      <td>989.800000</td>\n",
              "      <td>982.900000</td>\n",
              "      <td>0.000000</td>\n",
              "      <td>0.000000</td>\n",
              "      <td>0.300000</td>\n",
              "      <td>6.400000</td>\n",
              "    </tr>\n",
              "    <tr>\n",
              "      <th>25%</th>\n",
              "      <td>6.700000</td>\n",
              "      <td>18.600000</td>\n",
              "      <td>0.000000</td>\n",
              "      <td>2.600000</td>\n",
              "      <td>5.100000</td>\n",
              "      <td>26.000000</td>\n",
              "      <td>6.000000</td>\n",
              "      <td>9.000000</td>\n",
              "      <td>55.000000</td>\n",
              "      <td>31.000000</td>\n",
              "      <td>1013.600000</td>\n",
              "      <td>1010.900000</td>\n",
              "      <td>1.000000</td>\n",
              "      <td>1.000000</td>\n",
              "      <td>12.300000</td>\n",
              "      <td>17.500000</td>\n",
              "    </tr>\n",
              "    <tr>\n",
              "      <th>50%</th>\n",
              "      <td>11.700000</td>\n",
              "      <td>23.600000</td>\n",
              "      <td>0.000000</td>\n",
              "      <td>4.400000</td>\n",
              "      <td>8.900000</td>\n",
              "      <td>33.000000</td>\n",
              "      <td>9.000000</td>\n",
              "      <td>15.000000</td>\n",
              "      <td>70.000000</td>\n",
              "      <td>46.000000</td>\n",
              "      <td>1018.200000</td>\n",
              "      <td>1015.600000</td>\n",
              "      <td>5.000000</td>\n",
              "      <td>5.000000</td>\n",
              "      <td>17.100000</td>\n",
              "      <td>22.000000</td>\n",
              "    </tr>\n",
              "    <tr>\n",
              "      <th>75%</th>\n",
              "      <td>16.700000</td>\n",
              "      <td>28.900000</td>\n",
              "      <td>0.400000</td>\n",
              "      <td>7.400000</td>\n",
              "      <td>10.500000</td>\n",
              "      <td>43.000000</td>\n",
              "      <td>17.000000</td>\n",
              "      <td>20.000000</td>\n",
              "      <td>84.000000</td>\n",
              "      <td>61.000000</td>\n",
              "      <td>1022.900000</td>\n",
              "      <td>1020.200000</td>\n",
              "      <td>7.000000</td>\n",
              "      <td>7.000000</td>\n",
              "      <td>21.200000</td>\n",
              "      <td>27.200000</td>\n",
              "    </tr>\n",
              "    <tr>\n",
              "      <th>max</th>\n",
              "      <td>29.700000</td>\n",
              "      <td>46.600000</td>\n",
              "      <td>371.000000</td>\n",
              "      <td>86.200000</td>\n",
              "      <td>13.800000</td>\n",
              "      <td>107.000000</td>\n",
              "      <td>48.000000</td>\n",
              "      <td>56.000000</td>\n",
              "      <td>100.000000</td>\n",
              "      <td>100.000000</td>\n",
              "      <td>1039.900000</td>\n",
              "      <td>1036.800000</td>\n",
              "      <td>8.000000</td>\n",
              "      <td>8.000000</td>\n",
              "      <td>37.700000</td>\n",
              "      <td>45.200000</td>\n",
              "    </tr>\n",
              "  </tbody>\n",
              "</table>\n",
              "</div>\n",
              "      <button class=\"colab-df-convert\" onclick=\"convertToInteractive('df-b525bbe8-b427-4fc4-8eb8-bbf9a31609d7')\"\n",
              "              title=\"Convert this dataframe to an interactive table.\"\n",
              "              style=\"display:none;\">\n",
              "        \n",
              "  <svg xmlns=\"http://www.w3.org/2000/svg\" height=\"24px\"viewBox=\"0 0 24 24\"\n",
              "       width=\"24px\">\n",
              "    <path d=\"M0 0h24v24H0V0z\" fill=\"none\"/>\n",
              "    <path d=\"M18.56 5.44l.94 2.06.94-2.06 2.06-.94-2.06-.94-.94-2.06-.94 2.06-2.06.94zm-11 1L8.5 8.5l.94-2.06 2.06-.94-2.06-.94L8.5 2.5l-.94 2.06-2.06.94zm10 10l.94 2.06.94-2.06 2.06-.94-2.06-.94-.94-2.06-.94 2.06-2.06.94z\"/><path d=\"M17.41 7.96l-1.37-1.37c-.4-.4-.92-.59-1.43-.59-.52 0-1.04.2-1.43.59L10.3 9.45l-7.72 7.72c-.78.78-.78 2.05 0 2.83L4 21.41c.39.39.9.59 1.41.59.51 0 1.02-.2 1.41-.59l7.78-7.78 2.81-2.81c.8-.78.8-2.07 0-2.86zM5.41 20L4 18.59l7.72-7.72 1.47 1.35L5.41 20z\"/>\n",
              "  </svg>\n",
              "      </button>\n",
              "      \n",
              "  <style>\n",
              "    .colab-df-container {\n",
              "      display:flex;\n",
              "      flex-wrap:wrap;\n",
              "      gap: 12px;\n",
              "    }\n",
              "\n",
              "    .colab-df-convert {\n",
              "      background-color: #E8F0FE;\n",
              "      border: none;\n",
              "      border-radius: 50%;\n",
              "      cursor: pointer;\n",
              "      display: none;\n",
              "      fill: #1967D2;\n",
              "      height: 32px;\n",
              "      padding: 0 0 0 0;\n",
              "      width: 32px;\n",
              "    }\n",
              "\n",
              "    .colab-df-convert:hover {\n",
              "      background-color: #E2EBFA;\n",
              "      box-shadow: 0px 1px 2px rgba(60, 64, 67, 0.3), 0px 1px 3px 1px rgba(60, 64, 67, 0.15);\n",
              "      fill: #174EA6;\n",
              "    }\n",
              "\n",
              "    [theme=dark] .colab-df-convert {\n",
              "      background-color: #3B4455;\n",
              "      fill: #D2E3FC;\n",
              "    }\n",
              "\n",
              "    [theme=dark] .colab-df-convert:hover {\n",
              "      background-color: #434B5C;\n",
              "      box-shadow: 0px 1px 3px 1px rgba(0, 0, 0, 0.15);\n",
              "      filter: drop-shadow(0px 1px 2px rgba(0, 0, 0, 0.3));\n",
              "      fill: #FFFFFF;\n",
              "    }\n",
              "  </style>\n",
              "\n",
              "      <script>\n",
              "        const buttonEl =\n",
              "          document.querySelector('#df-b525bbe8-b427-4fc4-8eb8-bbf9a31609d7 button.colab-df-convert');\n",
              "        buttonEl.style.display =\n",
              "          google.colab.kernel.accessAllowed ? 'block' : 'none';\n",
              "\n",
              "        async function convertToInteractive(key) {\n",
              "          const element = document.querySelector('#df-b525bbe8-b427-4fc4-8eb8-bbf9a31609d7');\n",
              "          const dataTable =\n",
              "            await google.colab.kernel.invokeFunction('convertToInteractive',\n",
              "                                                     [key], {});\n",
              "          if (!dataTable) return;\n",
              "\n",
              "          const docLinkHtml = 'Like what you see? Visit the ' +\n",
              "            '<a target=\"_blank\" href=https://colab.research.google.com/notebooks/data_table.ipynb>data table notebook</a>'\n",
              "            + ' to learn more about interactive tables.';\n",
              "          element.innerHTML = '';\n",
              "          dataTable['output_type'] = 'display_data';\n",
              "          await google.colab.output.renderOutput(dataTable, element);\n",
              "          const docLink = document.createElement('div');\n",
              "          docLink.innerHTML = docLinkHtml;\n",
              "          element.appendChild(docLink);\n",
              "        }\n",
              "      </script>\n",
              "    </div>\n",
              "  </div>\n",
              "  "
            ]
          },
          "metadata": {},
          "execution_count": 12
        }
      ]
    },
    {
      "cell_type": "code",
      "source": [
        "df.info()\n"
      ],
      "metadata": {
        "colab": {
          "base_uri": "https://localhost:8080/"
        },
        "id": "Atsfn4m5A01n",
        "outputId": "750e17e6-794d-4df2-a413-4e2d3c56d7ec"
      },
      "execution_count": 13,
      "outputs": [
        {
          "output_type": "stream",
          "name": "stdout",
          "text": [
            "<class 'pandas.core.frame.DataFrame'>\n",
            "RangeIndex: 10705 entries, 0 to 10704\n",
            "Data columns (total 23 columns):\n",
            " #   Column         Non-Null Count  Dtype  \n",
            "---  ------         --------------  -----  \n",
            " 0   Date           10705 non-null  object \n",
            " 1   Location       10705 non-null  object \n",
            " 2   MinTemp        10651 non-null  float64\n",
            " 3   MaxTemp        10660 non-null  float64\n",
            " 4   Rainfall       10570 non-null  float64\n",
            " 5   Evaporation    4258 non-null   float64\n",
            " 6   Sunshine       1968 non-null   float64\n",
            " 7   WindGustDir    10518 non-null  object \n",
            " 8   WindGustSpeed  10518 non-null  float64\n",
            " 9   WindDir9am     9681 non-null   object \n",
            " 10  WindDir3pm     10552 non-null  object \n",
            " 11  WindSpeed9am   10626 non-null  float64\n",
            " 12  WindSpeed3pm   10630 non-null  float64\n",
            " 13  Humidity9am    10511 non-null  float64\n",
            " 14  Humidity3pm    10507 non-null  float64\n",
            " 15  Pressure9am    10495 non-null  float64\n",
            " 16  Pressure3pm    10491 non-null  float64\n",
            " 17  Cloud9am       5553 non-null   float64\n",
            " 18  Cloud3pm       5756 non-null   float64\n",
            " 19  Temp9am        10644 non-null  float64\n",
            " 20  Temp3pm        10642 non-null  float64\n",
            " 21  RainToday      10569 non-null  object \n",
            " 22  RainTomorrow   10569 non-null  object \n",
            "dtypes: float64(16), object(7)\n",
            "memory usage: 1.9+ MB\n"
          ]
        }
      ]
    },
    {
      "cell_type": "code",
      "source": [
        "df.shape"
      ],
      "metadata": {
        "colab": {
          "base_uri": "https://localhost:8080/"
        },
        "id": "E74P-FsUA3Gs",
        "outputId": "eed45f51-9350-4814-b721-e4b5b1f510cf"
      },
      "execution_count": 14,
      "outputs": [
        {
          "output_type": "execute_result",
          "data": {
            "text/plain": [
              "(10705, 23)"
            ]
          },
          "metadata": {},
          "execution_count": 14
        }
      ]
    },
    {
      "cell_type": "code",
      "source": [
        "df.isnull().sum()"
      ],
      "metadata": {
        "colab": {
          "base_uri": "https://localhost:8080/"
        },
        "id": "cnmM4gwTA7Zf",
        "outputId": "6ae92cf7-ba28-475d-ba67-d4768c5e2962"
      },
      "execution_count": 15,
      "outputs": [
        {
          "output_type": "execute_result",
          "data": {
            "text/plain": [
              "Date                0\n",
              "Location            0\n",
              "MinTemp            54\n",
              "MaxTemp            45\n",
              "Rainfall          135\n",
              "Evaporation      6447\n",
              "Sunshine         8737\n",
              "WindGustDir       187\n",
              "WindGustSpeed     187\n",
              "WindDir9am       1024\n",
              "WindDir3pm        153\n",
              "WindSpeed9am       79\n",
              "WindSpeed3pm       75\n",
              "Humidity9am       194\n",
              "Humidity3pm       198\n",
              "Pressure9am       210\n",
              "Pressure3pm       214\n",
              "Cloud9am         5152\n",
              "Cloud3pm         4949\n",
              "Temp9am            61\n",
              "Temp3pm            63\n",
              "RainToday         136\n",
              "RainTomorrow      136\n",
              "dtype: int64"
            ]
          },
          "metadata": {},
          "execution_count": 15
        }
      ]
    },
    {
      "cell_type": "code",
      "source": [
        "import missingno as msno \n",
        "msno.matrix(df, color= (0.678, 0.678, 0.250), fontsize=14)"
      ],
      "metadata": {
        "colab": {
          "base_uri": "https://localhost:8080/",
          "height": 418
        },
        "id": "4--lD3D6A_dS",
        "outputId": "9045f73d-16e3-4a50-8f6c-853e8af2f820"
      },
      "execution_count": 16,
      "outputs": [
        {
          "output_type": "execute_result",
          "data": {
            "text/plain": [
              "<matplotlib.axes._subplots.AxesSubplot at 0x7ff9e9f3c5d0>"
            ]
          },
          "metadata": {},
          "execution_count": 16
        },
        {
          "output_type": "display_data",
          "data": {
            "text/plain": [
              "<Figure size 1800x720 with 2 Axes>"
            ],
            "image/png": "[encoded data removed]"
          },
          "metadata": {
            "needs_background": "light"
          }
        }
      ]
    },
    {
      "cell_type": "code",
      "source": [
        "data_cat = df[['RainToday','WindGustDir','WindDir9am','WindDir3pm']]\n",
        "df.drop(columns=['Evaporation','Sunshine','Cloud9am','Cloud3pm'],axis=1,inplace=True)\n",
        "df.drop(columns=['RainToday','WindGustDir','WindDir9am','WindDir3pm'],axis=1,inplace=True)"
      ],
      "metadata": {
        "id": "TIdis0XSBVzL"
      },
      "execution_count": 17,
      "outputs": []
    },
    {
      "cell_type": "code",
      "source": [
        "df['MinTemp'].fillna(df['MinTemp'].mean(),inplace=True)\n",
        "df['MaxTemp'].fillna(df['MaxTemp'].mean(),inplace=True)\n",
        "df['Rainfall'].fillna(df['Rainfall'].mean(),inplace=True)\n",
        "df['WindGustSpeed'].fillna(df['WindGustSpeed'].mean(),inplace=True)\n",
        "df['WindSpeed9am'].fillna(df['WindSpeed9am'].mean(),inplace=True)\n",
        "df['WindSpeed3pm'].fillna(df['WindSpeed3pm'].mean(),inplace=True)\n",
        "df['Humidity9am'].fillna(df['Humidity9am'].mean(),inplace=True)\n",
        "df['Humidity3pm'].fillna(df['Humidity3pm'].mean(),inplace=True)\n",
        "df['Pressure9am'].fillna(df['Pressure9am'].mean(),inplace=True)\n",
        "df['Pressure3pm'].fillna(df['Pressure3pm'].mean(),inplace=True)\n",
        "df['Temp9am'].fillna(df['Temp9am'].mean(),inplace=True)\n",
        "df['Temp3pm'].fillna(df['Temp3pm'].mean(),inplace=True)"
      ],
      "metadata": {
        "id": "PEfmbRyXEPQO"
      },
      "execution_count": 18,
      "outputs": []
    },
    {
      "cell_type": "code",
      "source": [
        "cat_names = data_cat.columns\n"
      ],
      "metadata": {
        "id": "sTWNTF36GoJk"
      },
      "execution_count": 19,
      "outputs": []
    },
    {
      "cell_type": "code",
      "source": [
        "import numpy as np\n",
        "from sklearn.impute import SimpleImputer\n",
        "imp_mode = SimpleImputer(missing_values=np.nan, strategy='most_frequent')"
      ],
      "metadata": {
        "id": "TC1eruHPGrz9"
      },
      "execution_count": 20,
      "outputs": []
    },
    {
      "cell_type": "code",
      "source": [
        "data_cat = imp_mode.fit_transform(data_cat)\n"
      ],
      "metadata": {
        "id": "Cubk4Ei6G-8b"
      },
      "execution_count": 21,
      "outputs": []
    },
    {
      "cell_type": "code",
      "source": [
        "data_cat = pd.DataFrame(data_cat,columns=cat_names)\n"
      ],
      "metadata": {
        "id": "VhTvbss9G-tL"
      },
      "execution_count": 22,
      "outputs": []
    },
    {
      "cell_type": "code",
      "source": [
        "df = pd.concat([df,data_cat],axis=1)\n"
      ],
      "metadata": {
        "id": "_EKMszB6G-Um"
      },
      "execution_count": 23,
      "outputs": []
    },
    {
      "cell_type": "code",
      "source": [
        "df.corr()\n"
      ],
      "metadata": {
        "colab": {
          "base_uri": "https://localhost:8080/",
          "height": 490
        },
        "id": "Az6oC8-_G-DW",
        "outputId": "9acaa2ef-a1d0-4882-86d2-98f19e027d62"
      },
      "execution_count": 24,
      "outputs": [
        {
          "output_type": "execute_result",
          "data": {
            "text/plain": [
              "                MinTemp   MaxTemp  Rainfall  WindGustSpeed  WindSpeed9am  \\\n",
              "MinTemp        1.000000  0.769664  0.119665       0.354080      0.319574   \n",
              "MaxTemp        0.769664  1.000000 -0.077905       0.262796      0.094305   \n",
              "Rainfall       0.119665 -0.077905  1.000000       0.120205      0.143585   \n",
              "WindGustSpeed  0.354080  0.262796  0.120205       1.000000      0.502074   \n",
              "WindSpeed9am   0.319574  0.094305  0.143585       0.502074      1.000000   \n",
              "WindSpeed3pm   0.213842  0.100722  0.087129       0.673025      0.428527   \n",
              "Humidity9am   -0.309269 -0.514550  0.211776      -0.305349     -0.392568   \n",
              "Humidity3pm   -0.076108 -0.530601  0.266577      -0.109996     -0.058747   \n",
              "Pressure9am   -0.498578 -0.396397 -0.114064      -0.504793     -0.221417   \n",
              "Pressure3pm   -0.482363 -0.458436 -0.074214      -0.479328     -0.157974   \n",
              "Temp9am        0.908610  0.886381  0.015211       0.355323      0.273150   \n",
              "Temp3pm        0.738178  0.983849 -0.080900       0.219118      0.072650   \n",
              "\n",
              "               WindSpeed3pm  Humidity9am  Humidity3pm  Pressure9am  \\\n",
              "MinTemp            0.213842    -0.309269    -0.076108    -0.498578   \n",
              "MaxTemp            0.100722    -0.514550    -0.530601    -0.396397   \n",
              "Rainfall           0.087129     0.211776     0.266577    -0.114064   \n",
              "WindGustSpeed      0.673025    -0.305349    -0.109996    -0.504793   \n",
              "WindSpeed9am       0.428527    -0.392568    -0.058747    -0.221417   \n",
              "WindSpeed3pm       1.000000    -0.202603    -0.027416    -0.358739   \n",
              "Humidity9am       -0.202603     1.000000     0.694692     0.210584   \n",
              "Humidity3pm       -0.027416     0.694692     1.000000     0.077223   \n",
              "Pressure9am       -0.358739     0.210584     0.077223     1.000000   \n",
              "Pressure3pm       -0.320555     0.223959     0.132724     0.963728   \n",
              "Temp9am            0.229607    -0.523625    -0.276365    -0.476130   \n",
              "Temp3pm            0.070686    -0.508572    -0.579760    -0.358490   \n",
              "\n",
              "               Pressure3pm   Temp9am   Temp3pm  \n",
              "MinTemp          -0.482363  0.908610  0.738178  \n",
              "MaxTemp          -0.458436  0.886381  0.983849  \n",
              "Rainfall         -0.074214  0.015211 -0.080900  \n",
              "WindGustSpeed    -0.479328  0.355323  0.219118  \n",
              "WindSpeed9am     -0.157974  0.273150  0.072650  \n",
              "WindSpeed3pm     -0.320555  0.229607  0.070686  \n",
              "Humidity9am       0.223959 -0.523625 -0.508572  \n",
              "Humidity3pm       0.132724 -0.276365 -0.579760  \n",
              "Pressure9am       0.963728 -0.476130 -0.358490  \n",
              "Pressure3pm       1.000000 -0.490347 -0.428821  \n",
              "Temp9am          -0.490347  1.000000  0.857431  \n",
              "Temp3pm          -0.428821  0.857431  1.000000  "
            ],
            "text/html": [
              "\n",
              "  <div id=\"df-40df93d2-07e5-48be-9b19-15abc015f838\">\n",
              "    <div class=\"colab-df-container\">\n",
              "      <div>\n",
              "<style scoped>\n",
              "    .dataframe tbody tr th:only-of-type {\n",
              "        vertical-align: middle;\n",
              "    }\n",
              "\n",
              "    .dataframe tbody tr th {\n",
              "        vertical-align: top;\n",
              "    }\n",
              "\n",
              "    .dataframe thead th {\n",
              "        text-align: right;\n",
              "    }\n",
              "</style>\n",
              "<table border=\"1\" class=\"dataframe\">\n",
              "  <thead>\n",
              "    <tr style=\"text-align: right;\">\n",
              "      <th></th>\n",
              "      <th>MinTemp</th>\n",
              "      <th>MaxTemp</th>\n",
              "      <th>Rainfall</th>\n",
              "      <th>WindGustSpeed</th>\n",
              "      <th>WindSpeed9am</th>\n",
              "      <th>WindSpeed3pm</th>\n",
              "      <th>Humidity9am</th>\n",
              "      <th>Humidity3pm</th>\n",
              "      <th>Pressure9am</th>\n",
              "      <th>Pressure3pm</th>\n",
              "      <th>Temp9am</th>\n",
              "      <th>Temp3pm</th>\n",
              "    </tr>\n",
              "  </thead>\n",
              "  <tbody>\n",
              "    <tr>\n",
              "      <th>MinTemp</th>\n",
              "      <td>1.000000</td>\n",
              "      <td>0.769664</td>\n",
              "      <td>0.119665</td>\n",
              "      <td>0.354080</td>\n",
              "      <td>0.319574</td>\n",
              "      <td>0.213842</td>\n",
              "      <td>-0.309269</td>\n",
              "      <td>-0.076108</td>\n",
              "      <td>-0.498578</td>\n",
              "      <td>-0.482363</td>\n",
              "      <td>0.908610</td>\n",
              "      <td>0.738178</td>\n",
              "    </tr>\n",
              "    <tr>\n",
              "      <th>MaxTemp</th>\n",
              "      <td>0.769664</td>\n",
              "      <td>1.000000</td>\n",
              "      <td>-0.077905</td>\n",
              "      <td>0.262796</td>\n",
              "      <td>0.094305</td>\n",
              "      <td>0.100722</td>\n",
              "      <td>-0.514550</td>\n",
              "      <td>-0.530601</td>\n",
              "      <td>-0.396397</td>\n",
              "      <td>-0.458436</td>\n",
              "      <td>0.886381</td>\n",
              "      <td>0.983849</td>\n",
              "    </tr>\n",
              "    <tr>\n",
              "      <th>Rainfall</th>\n",
              "      <td>0.119665</td>\n",
              "      <td>-0.077905</td>\n",
              "      <td>1.000000</td>\n",
              "      <td>0.120205</td>\n",
              "      <td>0.143585</td>\n",
              "      <td>0.087129</td>\n",
              "      <td>0.211776</td>\n",
              "      <td>0.266577</td>\n",
              "      <td>-0.114064</td>\n",
              "      <td>-0.074214</td>\n",
              "      <td>0.015211</td>\n",
              "      <td>-0.080900</td>\n",
              "    </tr>\n",
              "    <tr>\n",
              "      <th>WindGustSpeed</th>\n",
              "      <td>0.354080</td>\n",
              "      <td>0.262796</td>\n",
              "      <td>0.120205</td>\n",
              "      <td>1.000000</td>\n",
              "      <td>0.502074</td>\n",
              "      <td>0.673025</td>\n",
              "      <td>-0.305349</td>\n",
              "      <td>-0.109996</td>\n",
              "      <td>-0.504793</td>\n",
              "      <td>-0.479328</td>\n",
              "      <td>0.355323</td>\n",
              "      <td>0.219118</td>\n",
              "    </tr>\n",
              "    <tr>\n",
              "      <th>WindSpeed9am</th>\n",
              "      <td>0.319574</td>\n",
              "      <td>0.094305</td>\n",
              "      <td>0.143585</td>\n",
              "      <td>0.502074</td>\n",
              "      <td>1.000000</td>\n",
              "      <td>0.428527</td>\n",
              "      <td>-0.392568</td>\n",
              "      <td>-0.058747</td>\n",
              "      <td>-0.221417</td>\n",
              "      <td>-0.157974</td>\n",
              "      <td>0.273150</td>\n",
              "      <td>0.072650</td>\n",
              "    </tr>\n",
              "    <tr>\n",
              "      <th>WindSpeed3pm</th>\n",
              "      <td>0.213842</td>\n",
              "      <td>0.100722</td>\n",
              "      <td>0.087129</td>\n",
              "      <td>0.673025</td>\n",
              "      <td>0.428527</td>\n",
              "      <td>1.000000</td>\n",
              "      <td>-0.202603</td>\n",
              "      <td>-0.027416</td>\n",
              "      <td>-0.358739</td>\n",
              "      <td>-0.320555</td>\n",
              "      <td>0.229607</td>\n",
              "      <td>0.070686</td>\n",
              "    </tr>\n",
              "    <tr>\n",
              "      <th>Humidity9am</th>\n",
              "      <td>-0.309269</td>\n",
              "      <td>-0.514550</td>\n",
              "      <td>0.211776</td>\n",
              "      <td>-0.305349</td>\n",
              "      <td>-0.392568</td>\n",
              "      <td>-0.202603</td>\n",
              "      <td>1.000000</td>\n",
              "      <td>0.694692</td>\n",
              "      <td>0.210584</td>\n",
              "      <td>0.223959</td>\n",
              "      <td>-0.523625</td>\n",
              "      <td>-0.508572</td>\n",
              "    </tr>\n",
              "    <tr>\n",
              "      <th>Humidity3pm</th>\n",
              "      <td>-0.076108</td>\n",
              "      <td>-0.530601</td>\n",
              "      <td>0.266577</td>\n",
              "      <td>-0.109996</td>\n",
              "      <td>-0.058747</td>\n",
              "      <td>-0.027416</td>\n",
              "      <td>0.694692</td>\n",
              "      <td>1.000000</td>\n",
              "      <td>0.077223</td>\n",
              "      <td>0.132724</td>\n",
              "      <td>-0.276365</td>\n",
              "      <td>-0.579760</td>\n",
              "    </tr>\n",
              "    <tr>\n",
              "      <th>Pressure9am</th>\n",
              "      <td>-0.498578</td>\n",
              "      <td>-0.396397</td>\n",
              "      <td>-0.114064</td>\n",
              "      <td>-0.504793</td>\n",
              "      <td>-0.221417</td>\n",
              "      <td>-0.358739</td>\n",
              "      <td>0.210584</td>\n",
              "      <td>0.077223</td>\n",
              "      <td>1.000000</td>\n",
              "      <td>0.963728</td>\n",
              "      <td>-0.476130</td>\n",
              "      <td>-0.358490</td>\n",
              "    </tr>\n",
              "    <tr>\n",
              "      <th>Pressure3pm</th>\n",
              "      <td>-0.482363</td>\n",
              "      <td>-0.458436</td>\n",
              "      <td>-0.074214</td>\n",
              "      <td>-0.479328</td>\n",
              "      <td>-0.157974</td>\n",
              "      <td>-0.320555</td>\n",
              "      <td>0.223959</td>\n",
              "      <td>0.132724</td>\n",
              "      <td>0.963728</td>\n",
              "      <td>1.000000</td>\n",
              "      <td>-0.490347</td>\n",
              "      <td>-0.428821</td>\n",
              "    </tr>\n",
              "    <tr>\n",
              "      <th>Temp9am</th>\n",
              "      <td>0.908610</td>\n",
              "      <td>0.886381</td>\n",
              "      <td>0.015211</td>\n",
              "      <td>0.355323</td>\n",
              "      <td>0.273150</td>\n",
              "      <td>0.229607</td>\n",
              "      <td>-0.523625</td>\n",
              "      <td>-0.276365</td>\n",
              "      <td>-0.476130</td>\n",
              "      <td>-0.490347</td>\n",
              "      <td>1.000000</td>\n",
              "      <td>0.857431</td>\n",
              "    </tr>\n",
              "    <tr>\n",
              "      <th>Temp3pm</th>\n",
              "      <td>0.738178</td>\n",
              "      <td>0.983849</td>\n",
              "      <td>-0.080900</td>\n",
              "      <td>0.219118</td>\n",
              "      <td>0.072650</td>\n",
              "      <td>0.070686</td>\n",
              "      <td>-0.508572</td>\n",
              "      <td>-0.579760</td>\n",
              "      <td>-0.358490</td>\n",
              "      <td>-0.428821</td>\n",
              "      <td>0.857431</td>\n",
              "      <td>1.000000</td>\n",
              "    </tr>\n",
              "  </tbody>\n",
              "</table>\n",
              "</div>\n",
              "      <button class=\"colab-df-convert\" onclick=\"convertToInteractive('df-40df93d2-07e5-48be-9b19-15abc015f838')\"\n",
              "              title=\"Convert this dataframe to an interactive table.\"\n",
              "              style=\"display:none;\">\n",
              "        \n",
              "  <svg xmlns=\"http://www.w3.org/2000/svg\" height=\"24px\"viewBox=\"0 0 24 24\"\n",
              "       width=\"24px\">\n",
              "    <path d=\"M0 0h24v24H0V0z\" fill=\"none\"/>\n",
              "    <path d=\"M18.56 5.44l.94 2.06.94-2.06 2.06-.94-2.06-.94-.94-2.06-.94 2.06-2.06.94zm-11 1L8.5 8.5l.94-2.06 2.06-.94-2.06-.94L8.5 2.5l-.94 2.06-2.06.94zm10 10l.94 2.06.94-2.06 2.06-.94-2.06-.94-.94-2.06-.94 2.06-2.06.94z\"/><path d=\"M17.41 7.96l-1.37-1.37c-.4-.4-.92-.59-1.43-.59-.52 0-1.04.2-1.43.59L10.3 9.45l-7.72 7.72c-.78.78-.78 2.05 0 2.83L4 21.41c.39.39.9.59 1.41.59.51 0 1.02-.2 1.41-.59l7.78-7.78 2.81-2.81c.8-.78.8-2.07 0-2.86zM5.41 20L4 18.59l7.72-7.72 1.47 1.35L5.41 20z\"/>\n",
              "  </svg>\n",
              "      </button>\n",
              "      \n",
              "  <style>\n",
              "    .colab-df-container {\n",
              "      display:flex;\n",
              "      flex-wrap:wrap;\n",
              "      gap: 12px;\n",
              "    }\n",
              "\n",
              "    .colab-df-convert {\n",
              "      background-color: #E8F0FE;\n",
              "      border: none;\n",
              "      border-radius: 50%;\n",
              "      cursor: pointer;\n",
              "      display: none;\n",
              "      fill: #1967D2;\n",
              "      height: 32px;\n",
              "      padding: 0 0 0 0;\n",
              "      width: 32px;\n",
              "    }\n",
              "\n",
              "    .colab-df-convert:hover {\n",
              "      background-color: #E2EBFA;\n",
              "      box-shadow: 0px 1px 2px rgba(60, 64, 67, 0.3), 0px 1px 3px 1px rgba(60, 64, 67, 0.15);\n",
              "      fill: #174EA6;\n",
              "    }\n",
              "\n",
              "    [theme=dark] .colab-df-convert {\n",
              "      background-color: #3B4455;\n",
              "      fill: #D2E3FC;\n",
              "    }\n",
              "\n",
              "    [theme=dark] .colab-df-convert:hover {\n",
              "      background-color: #434B5C;\n",
              "      box-shadow: 0px 1px 3px 1px rgba(0, 0, 0, 0.15);\n",
              "      filter: drop-shadow(0px 1px 2px rgba(0, 0, 0, 0.3));\n",
              "      fill: #FFFFFF;\n",
              "    }\n",
              "  </style>\n",
              "\n",
              "      <script>\n",
              "        const buttonEl =\n",
              "          document.querySelector('#df-40df93d2-07e5-48be-9b19-15abc015f838 button.colab-df-convert');\n",
              "        buttonEl.style.display =\n",
              "          google.colab.kernel.accessAllowed ? 'block' : 'none';\n",
              "\n",
              "        async function convertToInteractive(key) {\n",
              "          const element = document.querySelector('#df-40df93d2-07e5-48be-9b19-15abc015f838');\n",
              "          const dataTable =\n",
              "            await google.colab.kernel.invokeFunction('convertToInteractive',\n",
              "                                                     [key], {});\n",
              "          if (!dataTable) return;\n",
              "\n",
              "          const docLinkHtml = 'Like what you see? Visit the ' +\n",
              "            '<a target=\"_blank\" href=https://colab.research.google.com/notebooks/data_table.ipynb>data table notebook</a>'\n",
              "            + ' to learn more about interactive tables.';\n",
              "          element.innerHTML = '';\n",
              "          dataTable['output_type'] = 'display_data';\n",
              "          await google.colab.output.renderOutput(dataTable, element);\n",
              "          const docLink = document.createElement('div');\n",
              "          docLink.innerHTML = docLinkHtml;\n",
              "          element.appendChild(docLink);\n",
              "        }\n",
              "      </script>\n",
              "    </div>\n",
              "  </div>\n",
              "  "
            ]
          },
          "metadata": {},
          "execution_count": 24
        }
      ]
    },
    {
      "cell_type": "code",
      "source": [
        "cor = df.corr()\n"
      ],
      "metadata": {
        "id": "Hgfu-8wWHUY0"
      },
      "execution_count": 25,
      "outputs": []
    },
    {
      "cell_type": "code",
      "source": [
        "df.boxplot()\n"
      ],
      "metadata": {
        "colab": {
          "base_uri": "https://localhost:8080/",
          "height": 282
        },
        "id": "eZ7urBezHUMy",
        "outputId": "00428de1-3293-471e-aedc-24b62875874a"
      },
      "execution_count": 26,
      "outputs": [
        {
          "output_type": "execute_result",
          "data": {
            "text/plain": [
              "<matplotlib.axes._subplots.AxesSubplot at 0x7ff9e5904850>"
            ]
          },
          "metadata": {},
          "execution_count": 26
        },
        {
          "output_type": "display_data",
          "data": {
            "text/plain": [
              "<Figure size 432x288 with 1 Axes>"
            ],
            "image/png": "[encoded data removed]"
          },
          "metadata": {
            "needs_background": "light"
          }
        }
      ]
    },
    {
      "cell_type": "code",
      "source": [
        "sns.jointplot(df[\"MinTemp\"], df['Rainfall'])\n"
      ],
      "metadata": {
        "colab": {
          "base_uri": "https://localhost:8080/",
          "height": 513
        },
        "id": "z6DXBkclHUCn",
        "outputId": "8dacffbc-bd40-442f-f1b7-c3a06105c9a4"
      },
      "execution_count": 27,
      "outputs": [
        {
          "output_type": "stream",
          "name": "stderr",
          "text": [
            "/usr/local/lib/python3.7/dist-packages/seaborn/_decorators.py:43: FutureWarning: Pass the following variables as keyword args: x, y. From version 0.12, the only valid positional argument will be `data`, and passing other arguments without an explicit keyword will result in an error or misinterpretation.\n",
            "  FutureWarning\n"
          ]
        },
        {
          "output_type": "execute_result",
          "data": {
            "text/plain": [
              "<seaborn.axisgrid.JointGrid at 0x7ff9e585fc90>"
            ]
          },
          "metadata": {},
          "execution_count": 27
        },
        {
          "output_type": "display_data",
          "data": {
            "text/plain": [
              "<Figure size 432x432 with 3 Axes>"
            ],
            "image/png": "[encoded data removed]"
          },
          "metadata": {
            "needs_background": "light"
          }
        }
      ]
    },
    {
      "cell_type": "code",
      "source": [
        "sns.jointplot(df[\"MaxTemp\"], df['Rainfall'],hue=df[\"RainTomorrow\"])\n"
      ],
      "metadata": {
        "colab": {
          "base_uri": "https://localhost:8080/",
          "height": 513
        },
        "id": "noABAECyH3dJ",
        "outputId": "935463ae-1af4-4746-9f50-75d600998d4b"
      },
      "execution_count": 28,
      "outputs": [
        {
          "output_type": "stream",
          "name": "stderr",
          "text": [
            "/usr/local/lib/python3.7/dist-packages/seaborn/_decorators.py:43: FutureWarning: Pass the following variables as keyword args: x, y. From version 0.12, the only valid positional argument will be `data`, and passing other arguments without an explicit keyword will result in an error or misinterpretation.\n",
            "  FutureWarning\n"
          ]
        },
        {
          "output_type": "execute_result",
          "data": {
            "text/plain": [
              "<seaborn.axisgrid.JointGrid at 0x7ff9e4d49f90>"
            ]
          },
          "metadata": {},
          "execution_count": 28
        },
        {
          "output_type": "display_data",
          "data": {
            "text/plain": [
              "<Figure size 432x432 with 3 Axes>"
            ],
            "image/png": "[encoded data removed]"
          },
          "metadata": {
            "needs_background": "light"
          }
        }
      ]
    },
    {
      "cell_type": "code",
      "source": [
        "sns.histplot(df['RainTomorrow'])\n"
      ],
      "metadata": {
        "colab": {
          "base_uri": "https://localhost:8080/",
          "height": 296
        },
        "id": "EtE56fJbH3U3",
        "outputId": "1bbcfd36-af3e-4570-f358-35da74c600aa"
      },
      "execution_count": 30,
      "outputs": [
        {
          "output_type": "execute_result",
          "data": {
            "text/plain": [
              "<matplotlib.axes._subplots.AxesSubplot at 0x7ff9de3e5610>"
            ]
          },
          "metadata": {},
          "execution_count": 30
        },
        {
          "output_type": "display_data",
          "data": {
            "text/plain": [
              "<Figure size 432x288 with 1 Axes>"
            ],
            "image/png": "[encoded data removed]"
          },
          "metadata": {
            "needs_background": "light"
          }
        }
      ]
    },
    {
      "cell_type": "code",
      "source": [
        "sns.scatterplot(df['MinTemp'],df['Rainfall'])\n"
      ],
      "metadata": {
        "colab": {
          "base_uri": "https://localhost:8080/",
          "height": 351
        },
        "id": "fEFW7YB9H3JJ",
        "outputId": "b00c57b8-d22b-4af3-a435-8704a7320598"
      },
      "execution_count": 29,
      "outputs": [
        {
          "output_type": "stream",
          "name": "stderr",
          "text": [
            "/usr/local/lib/python3.7/dist-packages/seaborn/_decorators.py:43: FutureWarning: Pass the following variables as keyword args: x, y. From version 0.12, the only valid positional argument will be `data`, and passing other arguments without an explicit keyword will result in an error or misinterpretation.\n",
            "  FutureWarning\n"
          ]
        },
        {
          "output_type": "execute_result",
          "data": {
            "text/plain": [
              "<matplotlib.axes._subplots.AxesSubplot at 0x7ff9de750c50>"
            ]
          },
          "metadata": {},
          "execution_count": 29
        },
        {
          "output_type": "display_data",
          "data": {
            "text/plain": [
              "<Figure size 432x288 with 1 Axes>"
            ],
            "image/png": "[encoded data removed]"
          },
          "metadata": {
            "needs_background": "light"
          }
        }
      ]
    },
    {
      "cell_type": "code",
      "source": [
        "sns.displot(df['MaxTemp'])\n"
      ],
      "metadata": {
        "colab": {
          "base_uri": "https://localhost:8080/",
          "height": 386
        },
        "id": "Hu3C-z_hIUXF",
        "outputId": "2b04198a-2c98-4690-aa54-a16a6fabe4a0"
      },
      "execution_count": null,
      "outputs": [
        {
          "output_type": "execute_result",
          "data": {
            "text/plain": [
              "<seaborn.axisgrid.FacetGrid at 0x7fdb4571b450>"
            ]
          },
          "metadata": {},
          "execution_count": 58
        },
        {
          "output_type": "display_data",
          "data": {
            "text/plain": [
              "<Figure size 360x360 with 1 Axes>"
            ],
            "image/png": "[encoded data removed]"
          },
          "metadata": {
            "needs_background": "light"
          }
        }
      ]
    },
    {
      "cell_type": "code",
      "source": [
        "y=df['RainTomorrow']\n",
        "x=df.drop('RainTomorrow',axis=1)\n"
      ],
      "metadata": {
        "id": "I0aglquNId8A"
      },
      "execution_count": 31,
      "outputs": []
    },
    {
      "cell_type": "code",
      "source": [
        "from sklearn.preprocessing import StandardScaler\n",
        "y = df['RainTomorrow']\n",
        "x = df.drop('RainTomorrow',axis=1)"
      ],
      "metadata": {
        "id": "y8wOBSUaId4o"
      },
      "execution_count": 32,
      "outputs": []
    },
    {
      "cell_type": "code",
      "source": [
        "n = x.columns\n",
        "n"
      ],
      "metadata": {
        "colab": {
          "base_uri": "https://localhost:8080/"
        },
        "id": "q9eOV_wZId1x",
        "outputId": "79159944-15a5-4ee9-e568-85c7e54a10f1"
      },
      "execution_count": 33,
      "outputs": [
        {
          "output_type": "execute_result",
          "data": {
            "text/plain": [
              "Index(['Date', 'Location', 'MinTemp', 'MaxTemp', 'Rainfall', 'WindGustSpeed',\n",
              "       'WindSpeed9am', 'WindSpeed3pm', 'Humidity9am', 'Humidity3pm',\n",
              "       'Pressure9am', 'Pressure3pm', 'Temp9am', 'Temp3pm', 'RainToday',\n",
              "       'WindGustDir', 'WindDir9am', 'WindDir3pm'],\n",
              "      dtype='object')"
            ]
          },
          "metadata": {},
          "execution_count": 33
        }
      ]
    },
    {
      "cell_type": "code",
      "source": [
        "sc = StandardScaler()\n",
        "x = pd.DataFrame(x,columns=n)\n"
      ],
      "metadata": {
        "id": "hHppE7J7Idso"
      },
      "execution_count": 34,
      "outputs": []
    },
    {
      "cell_type": "code",
      "source": [
        "df.WindGustSpeed.replace(np.nan,df.WindGustSpeed.mean(),inplace=True)\n",
        "df.WindSpeed9am.replace(np.nan,df.WindSpeed9am.mean(),inplace=True)\n",
        "# Columns Include Categorial Data only\n",
        "df.WindGustDir.replace(np.nan,\"N/a\",inplace=True)\n",
        "df.WindDir9am.replace(np.nan,\"N/a\",inplace=True)\n",
        "df.WindDir3pm.replace(np.nan,\"N/a\",inplace=True)\n",
        "df.isna().sum()\n"
      ],
      "metadata": {
        "colab": {
          "base_uri": "https://localhost:8080/"
        },
        "id": "hOZwgkS1mscs",
        "outputId": "927d9391-34e0-4a11-a9f4-3eb141df7307"
      },
      "execution_count": 107,
      "outputs": [
        {
          "output_type": "stream",
          "name": "stderr",
          "text": [
            "/usr/local/lib/python3.7/dist-packages/pandas/core/generic.py:6619: SettingWithCopyWarning: \n",
            "A value is trying to be set on a copy of a slice from a DataFrame\n",
            "\n",
            "See the caveats in the documentation: https://pandas.pydata.org/pandas-docs/stable/user_guide/indexing.html#returning-a-view-versus-a-copy\n",
            "  return self._update_inplace(result)\n"
          ]
        },
        {
          "output_type": "execute_result",
          "data": {
            "text/plain": [
              "Date             0\n",
              "MinTemp          0\n",
              "MaxTemp          0\n",
              "Rainfall         0\n",
              "WindGustSpeed    0\n",
              "WindSpeed9am     0\n",
              "WindSpeed3pm     0\n",
              "Humidity9am      0\n",
              "Humidity3pm      0\n",
              "Pressure9am      0\n",
              "Pressure3pm      0\n",
              "Temp9am          0\n",
              "Temp3pm          0\n",
              "WindGustDir      0\n",
              "WindDir9am       0\n",
              "WindDir3pm       0\n",
              "Albury           0\n",
              "BadgerysCreek    0\n",
              "Cobar            0\n",
              "CoffsHarbour     0\n",
              "No               0\n",
              "Yes              0\n",
              "No               0\n",
              "Yes              0\n",
              "dtype: int64"
            ]
          },
          "metadata": {},
          "execution_count": 107
        }
      ]
    },
    {
      "cell_type": "code",
      "source": [
        "from sklearn import model_selection\n"
      ],
      "metadata": {
        "id": "kR65pQdoI_FD"
      },
      "execution_count": 69,
      "outputs": []
    },
    {
      "cell_type": "code",
      "source": [
        "x_train,x_test,y_train,y_test = model_selection.train_test_split(x,y,test_size =0.2,random_state =0)\n",
        "print(x_train.shape)\n",
        "print(y_train.shape)\n",
        "print(x_test.shape)\n",
        "print(y_test.shape)\n"
      ],
      "metadata": {
        "id": "eHJmVe57I-_q",
        "colab": {
          "base_uri": "https://localhost:8080/"
        },
        "outputId": "26262030-bfa5-4464-d811-4dd5fdbcb338"
      },
      "execution_count": 70,
      "outputs": [
        {
          "output_type": "stream",
          "name": "stdout",
          "text": [
            "(8564, 18)\n",
            "(8564,)\n",
            "(2141, 18)\n",
            "(2141,)\n"
          ]
        }
      ]
    },
    {
      "cell_type": "code",
      "source": [
        "print(x_train)\n"
      ],
      "metadata": {
        "colab": {
          "base_uri": "https://localhost:8080/"
        },
        "id": "wf9MZzlwMAbq",
        "outputId": "93a692b7-96f4-4daf-bb93-76e0046fdf1f"
      },
      "execution_count": 37,
      "outputs": [
        {
          "output_type": "stream",
          "name": "stdout",
          "text": [
            "             Date       Location  MinTemp  MaxTemp  Rainfall  WindGustSpeed  \\\n",
            "5386   2015-09-02  BadgerysCreek      2.5     18.7       0.0           20.0   \n",
            "10646  2013-08-05   CoffsHarbour      4.7     20.2       0.0           30.0   \n",
            "9291   2009-08-22   CoffsHarbour     16.2     24.1       0.0           43.0   \n",
            "8645   2016-05-09          Cobar     16.5     21.2      43.0           52.0   \n",
            "3018   2017-06-04         Albury     -0.9     14.5       0.0           17.0   \n",
            "...           ...            ...      ...      ...       ...            ...   \n",
            "9225   2009-06-17   CoffsHarbour      9.2     18.2       0.0           48.0   \n",
            "4859   2014-03-24  BadgerysCreek     18.6     20.8       0.2           37.0   \n",
            "3264   2009-08-13  BadgerysCreek      1.3     20.3       0.0           31.0   \n",
            "9845   2011-02-27   CoffsHarbour     19.8     31.7       0.0           50.0   \n",
            "2732   2016-08-22         Albury      8.4     13.9       0.2           31.0   \n",
            "\n",
            "       WindSpeed9am  WindSpeed3pm  Humidity9am  Humidity3pm  Pressure9am  \\\n",
            "5386            2.0           9.0         75.0         44.0  1018.240057   \n",
            "10646           7.0          17.0         60.0         47.0  1020.300000   \n",
            "9291            9.0          15.0         62.0         71.0  1011.900000   \n",
            "8645           24.0          30.0         96.0         42.0  1005.700000   \n",
            "3018            0.0           9.0         95.0         58.0  1030.000000   \n",
            "...             ...           ...          ...          ...          ...   \n",
            "9225           24.0          28.0         70.0         70.0  1022.800000   \n",
            "4859            9.0          15.0         76.0         93.0  1016.800000   \n",
            "3264            0.0          15.0         86.0         42.0  1014.100000   \n",
            "9845           11.0          33.0         67.0         65.0  1011.300000   \n",
            "2732           11.0          19.0         91.0         79.0  1016.800000   \n",
            "\n",
            "       Pressure3pm  Temp9am  Temp3pm RainToday WindGustDir WindDir9am  \\\n",
            "5386   1015.586951     10.4     18.0        No           N          W   \n",
            "10646  1016.000000     16.2     18.8        No          NE        WNW   \n",
            "9291   1011.000000     20.1     19.6        No         SSE          W   \n",
            "8645   1006.200000     18.8     19.0       Yes         WNW        NNE   \n",
            "3018   1026.000000      3.9     14.1        No         WSW         SW   \n",
            "...            ...      ...      ...       ...         ...        ...   \n",
            "9225   1021.800000     16.5     17.0        No         SSW         SW   \n",
            "4859   1016.100000     19.9     16.9        No           W          S   \n",
            "3264   1011.700000     10.8     20.2        No         WSW         SW   \n",
            "9845   1008.200000     24.9     28.8        No         NNE        NNW   \n",
            "2732   1013.900000      9.5     10.6        No          SE        ESE   \n",
            "\n",
            "      WindDir3pm  \n",
            "5386           N  \n",
            "10646         NE  \n",
            "9291           S  \n",
            "8645          NW  \n",
            "3018           W  \n",
            "...          ...  \n",
            "9225         SSW  \n",
            "4859         WSW  \n",
            "3264         WSW  \n",
            "9845          NE  \n",
            "2732         WSW  \n",
            "\n",
            "[8564 rows x 18 columns]\n"
          ]
        }
      ]
    },
    {
      "cell_type": "code",
      "source": [
        "def SLRegression_and_eval(df,feature1,feature2):\n",
        "    X=df[feature1].values\n",
        "    Y=df[feature2].values\n",
        "    x_mean=X.mean()\n",
        "    y_mean=Y.mean()\n",
        "\n",
        "    #Formula: ax+b=y\n",
        "    #Calulating a and b values\n",
        "    a=sum([(xi-x_mean)*(yi-y_mean) for xi,yi in zip(X,Y)])/sum([(xi-x_mean)**2 for xi in X])\n",
        "    b=y_mean-(a*x_mean)\n",
        "\n",
        "    #Getting the Y_pred\n",
        "    Y_pred=lambda x: a*x+b\n",
        "    \n",
        "    #Plotting the Regression Line\n",
        "    plt.scatter(X,Y,color=\"y\");\n",
        "    plt.plot([X.min(),X.max()],[Y_pred(X.min()),Y_pred(X.max())],color=\"purple\")\n",
        "    plt.scatter(x_mean,y_mean,color=\"blue\",marker=\"s\");\n",
        "    \n",
        "    RSS=sum([(yi-Y_pred(xi))**2 for xi,yi in zip(X,Y)])\n",
        "    TSS=sum([(yi-y_mean)**2 for yi in Y])\n",
        "    R2_score=1-(RSS/TSS)\n",
        "\n",
        "    print(\"RSS{}\\nTSS={}\\nR2_score={}\".format(RSS,TSS,R2_score))\n"
      ],
      "metadata": {
        "id": "xcqNqjMMnzRd"
      },
      "execution_count": 102,
      "outputs": []
    },
    {
      "cell_type": "code",
      "source": [
        "SLRegression_and_eval(df,\"Temp9am\",\"Temp3pm\")\n"
      ],
      "metadata": {
        "colab": {
          "base_uri": "https://localhost:8080/",
          "height": 317
        },
        "id": "3g0wfI3xnzKQ",
        "outputId": "74db8714-03a7-409c-df91-a500f81fa9ed"
      },
      "execution_count": 103,
      "outputs": [
        {
          "output_type": "stream",
          "name": "stdout",
          "text": [
            "RSS129719.35202335835\n",
            "TSS=489855.6982597296\n",
            "R2_score=0.7351886433408824\n"
          ]
        },
        {
          "output_type": "display_data",
          "data": {
            "text/plain": [
              "<Figure size 432x288 with 1 Axes>"
            ],
            "image/png": "[encoded data removed]"
          },
          "metadata": {
            "needs_background": "light"
          }
        }
      ]
    },
    {
      "cell_type": "code",
      "source": [
        "SLRegression_and_eval(df,\"Pressure9am\",\"Pressure3pm\")\n"
      ],
      "metadata": {
        "colab": {
          "base_uri": "https://localhost:8080/",
          "height": 317
        },
        "id": "xEhQdV32oFNq",
        "outputId": "13b3143d-4cc8-4ef1-e150-9290d274aef6"
      },
      "execution_count": 97,
      "outputs": [
        {
          "output_type": "stream",
          "name": "stdout",
          "text": [
            "RSS33578.93151747014\n",
            "TSS=471424.30355352414\n",
            "R2_score=0.9287713186096743\n"
          ]
        },
        {
          "output_type": "display_data",
          "data": {
            "text/plain": [
              "<Figure size 432x288 with 1 Axes>"
            ],
            "image/png": "[encoded data removed]"
          },
          "metadata": {
            "needs_background": "light"
          }
        }
      ]
    },
    {
      "cell_type": "code",
      "source": [
        "SLRegression_and_eval(df,\"MinTemp\",\"MaxTemp\")\n",
        "\n"
      ],
      "metadata": {
        "colab": {
          "base_uri": "https://localhost:8080/",
          "height": 317
        },
        "id": "-1HvWVsZoJUP",
        "outputId": "16cb0519-67fa-44e6-d92c-ef9b11fb8499"
      },
      "execution_count": 75,
      "outputs": [
        {
          "output_type": "stream",
          "name": "stdout",
          "text": [
            "RSS212999.1979221307\n",
            "TSS=522546.29753376235\n",
            "R2_score=0.5923821507732172\n"
          ]
        },
        {
          "output_type": "display_data",
          "data": {
            "text/plain": [
              "<Figure size 432x288 with 1 Axes>"
            ],
            "image/png": "[encoded data removed]"
          },
          "metadata": {
            "needs_background": "light"
          }
        }
      ]
    },
    {
      "cell_type": "code",
      "source": [
        "SLRegression_and_eval(df,\"Temp3pm\",\"MaxTemp\")\n"
      ],
      "metadata": {
        "colab": {
          "base_uri": "https://localhost:8080/",
          "height": 317
        },
        "id": "AF67f8k6oge7",
        "outputId": "e06068d9-1fb4-404a-f879-e286e950e686"
      },
      "execution_count": 106,
      "outputs": [
        {
          "output_type": "stream",
          "name": "stdout",
          "text": [
            "RSS16742.726931241952\n",
            "TSS=522546.29753376235\n",
            "R2_score=0.9679593425304861\n"
          ]
        },
        {
          "output_type": "display_data",
          "data": {
            "text/plain": [
              "<Figure size 432x288 with 1 Axes>"
            ],
            "image/png": "[encoded data removed]"
          },
          "metadata": {
            "needs_background": "light"
          }
        }
      ]
    },
    {
      "cell_type": "code",
      "source": [
        "SLRegression_and_eval(df,\"WindGustSpeed\",\"Rainfall\")\n"
      ],
      "metadata": {
        "colab": {
          "base_uri": "https://localhost:8080/",
          "height": 317
        },
        "id": "PVT6KHfLo0ZB",
        "outputId": "a992b4a1-6d47-42ef-bc2c-61579de73520"
      },
      "execution_count": 78,
      "outputs": [
        {
          "output_type": "stream",
          "name": "stdout",
          "text": [
            "RSS957226.5788729632\n",
            "TSS=971260.5241257544\n",
            "R2_score=0.014449207915068207\n"
          ]
        },
        {
          "output_type": "display_data",
          "data": {
            "text/plain": [
              "<Figure size 432x288 with 1 Axes>"
            ],
            "image/png": "[encoded data removed]"
          },
          "metadata": {
            "needs_background": "light"
          }
        }
      ]
    }
  ]
}